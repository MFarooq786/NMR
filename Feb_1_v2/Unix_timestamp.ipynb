{
 "cells": [
  {
   "cell_type": "code",
   "execution_count": 1,
   "id": "d6d36825",
   "metadata": {},
   "outputs": [
    {
     "name": "stdout",
     "output_type": "stream",
     "text": [
      "Minutes: 28434013.133333333\n"
     ]
    }
   ],
   "source": [
    "# Example Linux timestamp\n",
    "timestamp = 1706040788  # Replace with your actual timestamp\n",
    "\n",
    "# Convert timestamp to minutes\n",
    "minutes = timestamp / 60\n",
    "\n",
    "print(\"Minutes:\", minutes)\n"
   ]
  },
  {
   "cell_type": "code",
   "execution_count": 19,
   "id": "e405eb43",
   "metadata": {},
   "outputs": [
    {
     "name": "stdout",
     "output_type": "stream",
     "text": [
      "Date and Time: 2024-01-31 21:42:05\n"
     ]
    }
   ],
   "source": [
    "from datetime import datetime\n",
    "\n",
    "# Example Linux timestamp\n",
    "timestamp = 1706737325 # Replace with your actual timestamp\n",
    "\n",
    "# Convert timestamp to datetime\n",
    "dt_object = datetime.utcfromtimestamp(timestamp)\n",
    "\n",
    "# Format the datetime object to a string as needed\n",
    "date_string = dt_object.strftime(\"%Y-%m-%d %H:%M:%S\")\n",
    "\n",
    "print(\"Date and Time:\", date_string)\n"
   ]
  },
  {
   "cell_type": "code",
   "execution_count": 5,
   "id": "8c0582eb",
   "metadata": {},
   "outputs": [
    {
     "name": "stdout",
     "output_type": "stream",
     "text": [
      "Central Time (Chicago) Date and Time: 2024-01-25 16:26:16\n"
     ]
    }
   ],
   "source": [
    "from datetime import datetime\n",
    "import pytz\n",
    "\n",
    "# Example Linux timestamp\n",
    "timestamp = 1706221576  # Replace with your actual timestamp\n",
    "\n",
    "# Create a timezone object for Central Time (Chicago)\n",
    "central_tz = pytz.timezone('America/Chicago')\n",
    "\n",
    "# Convert timestamp to datetime in UTC\n",
    "dt_utc = datetime.utcfromtimestamp(timestamp)\n",
    "\n",
    "# Convert UTC datetime to Central Time\n",
    "dt_central = dt_utc.replace(tzinfo=pytz.utc).astimezone(central_tz)\n",
    "\n",
    "# Format the datetime object to a string as needed\n",
    "date_string = dt_central.strftime(\"%Y-%m-%d %H:%M:%S\")\n",
    "\n",
    "print(\"Central Time (Chicago) Date and Time:\", date_string)\n"
   ]
  },
  {
   "cell_type": "code",
   "execution_count": 9,
   "id": "223668ee",
   "metadata": {},
   "outputs": [
    {
     "name": "stdout",
     "output_type": "stream",
     "text": [
      "Central Time (Chicago) Date and Time: 2024-01-31 22:17:35\n"
     ]
    }
   ],
   "source": [
    "from datetime import datetime\n",
    "import pytz\n",
    "\n",
    "# Example Linux timestamp\n",
    "timestamp = 1706761055  # Replace with your actual timestamp\n",
    "\n",
    "# Create a timezone object for Central Time (Chicago)\n",
    "central_tz = pytz.timezone('America/Chicago')\n",
    "\n",
    "# Convert timestamp to datetime in UTC\n",
    "dt_utc = datetime.utcfromtimestamp(timestamp)\n",
    "\n",
    "# Convert UTC datetime to Central Time\n",
    "dt_central = dt_utc.replace(tzinfo=pytz.utc).astimezone(central_tz)\n",
    "\n",
    "# Format the datetime object to a string as needed\n",
    "date_string = dt_central.strftime(\"%Y-%m-%d %H:%M:%S\")\n",
    "\n",
    "print(\"Central Time (Chicago) Date and Time:\", date_string)\n"
   ]
  },
  {
   "cell_type": "code",
   "execution_count": null,
   "id": "d5b3c418",
   "metadata": {},
   "outputs": [],
   "source": []
  }
 ],
 "metadata": {
  "kernelspec": {
   "display_name": "Python 3 (ipykernel)",
   "language": "python",
   "name": "python3"
  },
  "language_info": {
   "codemirror_mode": {
    "name": "ipython",
    "version": 3
   },
   "file_extension": ".py",
   "mimetype": "text/x-python",
   "name": "python",
   "nbconvert_exporter": "python",
   "pygments_lexer": "ipython3",
   "version": "3.10.13"
  }
 },
 "nbformat": 4,
 "nbformat_minor": 5
}
